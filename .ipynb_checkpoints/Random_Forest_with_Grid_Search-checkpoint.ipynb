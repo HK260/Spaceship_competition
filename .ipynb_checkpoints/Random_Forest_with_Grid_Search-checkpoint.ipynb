{
 "cells": [
  {
   "cell_type": "markdown",
   "id": "9e35f706-24c2-491b-b760-abe5f5249f14",
   "metadata": {},
   "source": [
    "### Model Selection and Submission"
   ]
  },
  {
   "cell_type": "code",
   "execution_count": 4,
   "id": "8019ec44-bbc2-42f1-8007-3b2407d7590a",
   "metadata": {},
   "outputs": [
    {
     "name": "stdout",
     "output_type": "stream",
     "text": [
      "Best parameters: {'classifier__max_depth': 10, 'classifier__n_estimators': 200}\n",
      "Best cross-validation score: 0.80\n",
      "Validation Accuracy: 0.7872340425531915\n",
      "Classification Report:\n",
      "              precision    recall  f1-score   support\n",
      "\n",
      "       False       0.80      0.75      0.78       861\n",
      "        True       0.77      0.82      0.80       878\n",
      "\n",
      "    accuracy                           0.79      1739\n",
      "   macro avg       0.79      0.79      0.79      1739\n",
      "weighted avg       0.79      0.79      0.79      1739\n",
      "\n"
     ]
    }
   ],
   "source": [
    "import pandas as pd\n",
    "from sklearn.model_selection import train_test_split, GridSearchCV\n",
    "from sklearn.preprocessing import StandardScaler\n",
    "from sklearn.impute import SimpleImputer\n",
    "from sklearn.preprocessing import OneHotEncoder\n",
    "from sklearn.compose import ColumnTransformer\n",
    "from sklearn.pipeline import Pipeline\n",
    "from sklearn.ensemble import RandomForestClassifier\n",
    "from sklearn.metrics import accuracy_score, classification_report\n",
    "\n",
    "# Load the training and test datasets\n",
    "train_data = pd.read_csv('train.csv')\n",
    "test_data = pd.read_csv('test.csv')\n",
    "\n",
    "# Drop unnecessary columns from the training and test datasets\n",
    "train_data = train_data.drop(columns=['Name', 'PassengerId', 'Cabin'])\n",
    "test_data_1 = test_data.drop(columns=['Name', 'PassengerId', 'Cabin'])\n",
    "\n",
    "# Separate features and target\n",
    "features = train_data.drop(columns=['Transported'])\n",
    "labels = train_data['Transported']\n",
    "\n",
    "# Identify categorical and numerical columns\n",
    "categorical_cols = features.select_dtypes(include=['object']).columns\n",
    "numerical_cols = features.select_dtypes(include=['int64', 'float64']).columns\n",
    "\n",
    "# Create preprocessing pipelines\n",
    "numerical_transformer = Pipeline(steps=[\n",
    "    ('imputer', SimpleImputer(strategy='median')),\n",
    "    ('scaler', StandardScaler())\n",
    "])\n",
    "\n",
    "categorical_transformer = Pipeline(steps=[\n",
    "    ('imputer', SimpleImputer(strategy='most_frequent')),\n",
    "    ('onehot', OneHotEncoder(handle_unknown='ignore'))\n",
    "])\n",
    "\n",
    "# Combine preprocessing for numerical and categorical data\n",
    "preprocessor = ColumnTransformer(\n",
    "    transformers=[\n",
    "        ('num', numerical_transformer, numerical_cols),\n",
    "        ('cat', categorical_transformer, categorical_cols)\n",
    "    ]\n",
    ")\n",
    "\n",
    "# Create a pipeline that includes preprocessing and the RandomForest model\n",
    "pipeline = Pipeline(steps=[\n",
    "    ('preprocessor', preprocessor),\n",
    "    ('classifier', RandomForestClassifier(random_state=40))\n",
    "])\n",
    "\n",
    "# Parameters of the model to be optimized by GridSearchCV\n",
    "param_grid = {\n",
    "    'classifier__n_estimators': [50, 100, 200],\n",
    "    'classifier__max_depth': [None, 10, 20, 30]\n",
    "}\n",
    "\n",
    "# Setup the grid search with 10-fold cross-validation\n",
    "grid_search = GridSearchCV(pipeline, param_grid, cv=10, scoring='accuracy')\n",
    "\n",
    "# Split the data into training and validation sets (80% train, 20% validation)\n",
    "X_train, X_val, y_train, y_val = train_test_split(features, labels, test_size=0.2, random_state=42)\n",
    "\n",
    "# Run grid search\n",
    "grid_search.fit(X_train, y_train)\n",
    "\n",
    "# Best parameters and best score\n",
    "print(\"Best parameters:\", grid_search.best_params_)\n",
    "print(\"Best cross-validation score: {:.2f}\".format(grid_search.best_score_))\n",
    "\n",
    "# Evaluate the model with the best parameters on the validation set\n",
    "y_pred = grid_search.predict(X_val)\n",
    "accuracy = accuracy_score(y_val, y_pred)\n",
    "report = classification_report(y_val, y_pred)\n",
    "\n",
    "print(f'Validation Accuracy: {accuracy}')\n",
    "print(f'Classification Report:\\n{report}')\n",
    "\n",
    "# Preprocess and predict on the test set using test_data_1\n",
    "test_predictions = grid_search.predict(test_data_1)"
   ]
  },
  {
   "cell_type": "code",
   "execution_count": 2,
   "id": "37727c0e-1e37-484f-aee6-6c5916d8f2d2",
   "metadata": {},
   "outputs": [
    {
     "data": {
      "text/plain": [
       "array([ True, False,  True, ...,  True,  True, False])"
      ]
     },
     "execution_count": 2,
     "metadata": {},
     "output_type": "execute_result"
    }
   ],
   "source": [
    "test_predictions"
   ]
  },
  {
   "cell_type": "code",
   "execution_count": 5,
   "id": "0892cabe-ab68-4b98-9e45-bb018bff2966",
   "metadata": {},
   "outputs": [
    {
     "name": "stdout",
     "output_type": "stream",
     "text": [
      "Submission file saved to submission4.csv\n"
     ]
    }
   ],
   "source": [
    "submission = pd.DataFrame({\n",
    "    'PassengerId': test_data['PassengerId'],\n",
    "    'Transported': test_predictions\n",
    "})\n",
    "# Convert the Transported column to boolean (if it's not already)\n",
    "submission['Transported'] = submission['Transported'].astype(bool)\n",
    "\n",
    "# Save the submission DataFrame to a CSV file\n",
    "submission_file_path = 'submission4.csv'\n",
    "submission.to_csv(submission_file_path, index=False)\n",
    "\n",
    "print(f'Submission file saved to {submission_file_path}')"
   ]
  },
  {
   "cell_type": "code",
   "execution_count": null,
   "id": "a5f2ab5e-597c-4936-9ed0-6fcb537b924c",
   "metadata": {},
   "outputs": [],
   "source": []
  }
 ],
 "metadata": {
  "kernelspec": {
   "display_name": "Python 3 (ipykernel)",
   "language": "python",
   "name": "python3"
  },
  "language_info": {
   "codemirror_mode": {
    "name": "ipython",
    "version": 3
   },
   "file_extension": ".py",
   "mimetype": "text/x-python",
   "name": "python",
   "nbconvert_exporter": "python",
   "pygments_lexer": "ipython3",
   "version": "3.11.7"
  }
 },
 "nbformat": 4,
 "nbformat_minor": 5
}
